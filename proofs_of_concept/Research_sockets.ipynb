{
 "cells": [
  {
   "cell_type": "code",
   "execution_count": 1,
   "metadata": {},
   "outputs": [],
   "source": [
    "import socket as sk"
   ]
  },
  {
   "cell_type": "code",
   "execution_count": null,
   "metadata": {},
   "outputs": [],
   "source": []
  },
  {
   "cell_type": "code",
   "execution_count": null,
   "metadata": {},
   "outputs": [],
   "source": [
    "class Parser:\n",
    "    def __init__(self, *args, **kwargs):\n",
    "        import argparse\n",
    "\n",
    "        self.parser = argparse.ArgumentParser(\n",
    "            description='Request Ray-Triangle computations to the Fog.')\n",
    "\n",
    "        self.parser.add_argument(\n",
    "            '--session-file', \n",
    "            type=str,\n",
    "            help='File containing the ray geometric information')\n",
    "\n",
    "        self.args = self.parser.parse_args()\n"
   ]
  },
  {
   "cell_type": "code",
   "execution_count": null,
   "metadata": {},
   "outputs": [],
   "source": [
    "class Config:\n",
    "    EDGE_ADDR = (\"localhost\", 5000)\n",
    "\n",
    "class Session:\n",
    "    def __init__(self, session_file):\n",
    "        self.filename = session_file\n",
    "    \n",
    "    def\n",
    "    \n",
    "class ClientNode():\n",
    "    \n",
    "    def __init__(self, session_filename):\n",
    "        self.filename = session_filename\n",
    "        \n",
    "    def send_request()"
   ]
  },
  {
   "cell_type": "code",
   "execution_count": 63,
   "metadata": {},
   "outputs": [
    {
     "name": "stdout",
     "output_type": "stream",
     "text": [
      "(array([0.5, 1.5]), [5, 7])\n"
     ]
    }
   ],
   "source": [
    "import numpy as np\n",
    "class TracerPYNQ:\n",
    "    MAX_DISTANCE = 1e9\n",
    "    EPSILON = 1.0e-5\n",
    "    \n",
    "    def compute(self, rays, tri_ids, tris):\n",
    "        raise Exception('ERROR: Using abstract class')\n",
    "\n",
    "class TracerARM(TracerPYNQ):\n",
    "    def compute(self, rays, tri_ids, tris):\n",
    "        intersects, ids = self._computeCPU(rays, tris)\n",
    "        ids = list(map(lambda x : tri_ids[x], ids))\n",
    "        return (intersects, ids)\n",
    "        \n",
    "        \n",
    "    def _computeCPU(self, rays, triangles):\n",
    "        out_inter = np.full(len(rays)//6, 1.0e9)\n",
    "        out_ids   = np.full(len(rays)//6, -1)\n",
    "        for ray, ray_base in enumerate(range(0, len(rays), 6)):\n",
    "            closest_tri, closest_dist = -1, self.MAX_DISTANCE\n",
    "            ray_data = rays[ray_base : ray_base + 6]            \n",
    "            for tri, tri_base in enumerate(range(0, len(tris), 9)):\n",
    "                tri_data = tris[tri_base : tri_base + 9]\n",
    "                dist = self._intersect(ray_data, tri_data)\n",
    "                if dist is not None and dist < closest_dist:\n",
    "                    closest_dist = dist\n",
    "                    closest_tri  = tri\n",
    "            out_inter[ray] = closest_dist\n",
    "            out_ids[ray]   = closest_tri\n",
    "        return (out_inter, out_ids)\n",
    "    \n",
    "    def _intersect(self, ray, tri):\n",
    "        origin, direction = np.array(ray[:3]), np.array(ray[3:6])\n",
    "        v0, v1, v2 = (np.array(tri[3*x: 3*x+3]) for x in range(3))\n",
    "\n",
    "        edge1 = v1 - v0\n",
    "        edge2 = v2 - v0\n",
    "\n",
    "        h = np.cross(direction, edge2)\n",
    "        a = np.dot(edge1, h)\n",
    "\n",
    "        if -self.EPSILON < a < self.EPSILON:\n",
    "            return None\n",
    "\n",
    "        f = 1.0 / a\n",
    "        s = origin - v0\n",
    "        u = f * np.dot(s, h)\n",
    "\n",
    "        if not 0.0 <= u <= 1.0:\n",
    "            return None\n",
    "\n",
    "        q = np.cross(s, edge1)\n",
    "        v = f * np.dot(direction, q)\n",
    "\n",
    "        if v < 0.0 or u + v > 1.0:\n",
    "            return None\n",
    "\n",
    "        t = f * np.dot(edge2, q)\n",
    "\n",
    "        if self.EPSILON < t < 1e9:\n",
    "            return t\n",
    "        \n",
    "rays = [-1, 0, 0, 1, 0, 0,\n",
    "        -2, 0, 10, 1, 0, 0,]\n",
    "\n",
    "tris = [ 0,  0,  1, \n",
    "         0, -1, -1,\n",
    "         0,  1, -1,\n",
    "        \n",
    "        -0.5,  0,  1, \n",
    "        -0.5, -1, -1,\n",
    "        -0.5,  1, -1,\n",
    "        \n",
    "        -0.5,  0,  11, \n",
    "        -0.5, -1, 9,\n",
    "        -0.5,  1, 9,]\n",
    "\n",
    "arm = TracerARM()\n",
    "print(arm.compute(rays, [4, 5, 7], tris))\n",
    "assert abs(arm._intersect(rays, tris) - 1.0) < 1.0e-3"
   ]
  },
  {
   "cell_type": "code",
   "execution_count": 11,
   "metadata": {},
   "outputs": [
    {
     "name": "stdout",
     "output_type": "stream",
     "text": [
      "Waiting for connection...\n",
      "Connection with 127.0.0.1:51061\n"
     ]
    },
    {
     "ename": "ValueError",
     "evalue": "invalid literal for int() with base 10: b'14 -1 0 0 1 0 0'",
     "output_type": "error",
     "traceback": [
      "\u001b[1;31m---------------------------------------------------------------------------\u001b[0m",
      "\u001b[1;31mValueError\u001b[0m                                Traceback (most recent call last)",
      "\u001b[1;32m<ipython-input-11-2aad2d569162>\u001b[0m in \u001b[0;36m<module>\u001b[1;34m\u001b[0m\n\u001b[0;32m     61\u001b[0m \u001b[1;32mtry\u001b[0m\u001b[1;33m:\u001b[0m\u001b[1;33m\u001b[0m\u001b[1;33m\u001b[0m\u001b[0m\n\u001b[0;32m     62\u001b[0m     \u001b[0mdark_node\u001b[0m\u001b[1;33m.\u001b[0m\u001b[0minit\u001b[0m\u001b[1;33m(\u001b[0m\u001b[1;33m)\u001b[0m\u001b[1;33m\u001b[0m\u001b[1;33m\u001b[0m\u001b[0m\n\u001b[1;32m---> 63\u001b[1;33m     \u001b[0mdark_node\u001b[0m\u001b[1;33m.\u001b[0m\u001b[0mstart\u001b[0m\u001b[1;33m(\u001b[0m\u001b[1;33m)\u001b[0m\u001b[1;33m\u001b[0m\u001b[1;33m\u001b[0m\u001b[0m\n\u001b[0m\u001b[0;32m     64\u001b[0m \u001b[1;32mfinally\u001b[0m\u001b[1;33m:\u001b[0m\u001b[1;33m\u001b[0m\u001b[1;33m\u001b[0m\u001b[0m\n\u001b[0;32m     65\u001b[0m     \u001b[0mdark_node\u001b[0m\u001b[1;33m.\u001b[0m\u001b[0mcleanup\u001b[0m\u001b[1;33m(\u001b[0m\u001b[1;33m)\u001b[0m\u001b[1;33m\u001b[0m\u001b[1;33m\u001b[0m\u001b[0m\n",
      "\u001b[1;32m<ipython-input-11-2aad2d569162>\u001b[0m in \u001b[0;36mstart\u001b[1;34m(self)\u001b[0m\n\u001b[0;32m     33\u001b[0m                 \u001b[0mself\u001b[0m\u001b[1;33m.\u001b[0m\u001b[0mstate\u001b[0m \u001b[1;33m=\u001b[0m \u001b[0mWAITING_SCENE\u001b[0m\u001b[1;33m\u001b[0m\u001b[1;33m\u001b[0m\u001b[0m\n\u001b[0;32m     34\u001b[0m             \u001b[1;32melif\u001b[0m \u001b[0mself\u001b[0m\u001b[1;33m.\u001b[0m\u001b[0mstate\u001b[0m \u001b[1;33m==\u001b[0m \u001b[0mWAITING_SCENE\u001b[0m\u001b[1;33m:\u001b[0m\u001b[1;33m\u001b[0m\u001b[1;33m\u001b[0m\u001b[0m\n\u001b[1;32m---> 35\u001b[1;33m                 \u001b[0mself\u001b[0m\u001b[1;33m.\u001b[0m\u001b[0m_receive_scene\u001b[0m\u001b[1;33m(\u001b[0m\u001b[1;33m)\u001b[0m\u001b[1;33m\u001b[0m\u001b[1;33m\u001b[0m\u001b[0m\n\u001b[0m\u001b[0;32m     36\u001b[0m                 \u001b[0mself\u001b[0m\u001b[1;33m.\u001b[0m\u001b[0mstate\u001b[0m \u001b[1;33m=\u001b[0m \u001b[0mIDLE\u001b[0m\u001b[1;33m\u001b[0m\u001b[1;33m\u001b[0m\u001b[0m\n\u001b[0;32m     37\u001b[0m \u001b[1;33m\u001b[0m\u001b[0m\n",
      "\u001b[1;32m<ipython-input-11-2aad2d569162>\u001b[0m in \u001b[0;36m_receive_scene\u001b[1;34m(self)\u001b[0m\n\u001b[0;32m     43\u001b[0m \u001b[1;33m\u001b[0m\u001b[0m\n\u001b[0;32m     44\u001b[0m     \u001b[1;32mdef\u001b[0m \u001b[0m_receive_scene\u001b[0m\u001b[1;33m(\u001b[0m\u001b[0mself\u001b[0m\u001b[1;33m)\u001b[0m\u001b[1;33m:\u001b[0m\u001b[1;33m\u001b[0m\u001b[1;33m\u001b[0m\u001b[0m\n\u001b[1;32m---> 45\u001b[1;33m         \u001b[0mnumber_of_tris\u001b[0m \u001b[1;33m=\u001b[0m \u001b[0mint\u001b[0m\u001b[1;33m(\u001b[0m\u001b[0mself\u001b[0m\u001b[1;33m.\u001b[0m\u001b[0mconnection\u001b[0m\u001b[1;33m.\u001b[0m\u001b[0mrecv\u001b[0m\u001b[1;33m(\u001b[0m\u001b[1;36m32\u001b[0m\u001b[1;33m)\u001b[0m\u001b[1;33m)\u001b[0m\u001b[1;33m\u001b[0m\u001b[1;33m\u001b[0m\u001b[0m\n\u001b[0m\u001b[0;32m     46\u001b[0m         \u001b[0mself\u001b[0m\u001b[1;33m.\u001b[0m\u001b[0mtris\u001b[0m \u001b[1;33m=\u001b[0m \u001b[0mnp\u001b[0m\u001b[1;33m.\u001b[0m\u001b[0mzeros\u001b[0m\u001b[1;33m(\u001b[0m\u001b[0mnumber_of_tris\u001b[0m\u001b[1;33m)\u001b[0m\u001b[1;33m\u001b[0m\u001b[1;33m\u001b[0m\u001b[0m\n\u001b[0;32m     47\u001b[0m         \u001b[0mprint\u001b[0m\u001b[1;33m(\u001b[0m\u001b[0mself\u001b[0m\u001b[1;33m.\u001b[0m\u001b[0mtris\u001b[0m\u001b[1;33m)\u001b[0m\u001b[1;33m\u001b[0m\u001b[1;33m\u001b[0m\u001b[0m\n",
      "\u001b[1;31mValueError\u001b[0m: invalid literal for int() with base 10: b'14 -1 0 0 1 0 0'"
     ]
    }
   ],
   "source": [
    "import socket as sk\n",
    "\n",
    "IDLE = 0\n",
    "WAITING_SCENE = 1\n",
    "WAITING_RAY_TASK = 2\n",
    "COMPUTING = 3\n",
    "FINISHED = 4\n",
    "\n",
    "class DarkNode():\n",
    "\n",
    "    def __init__(self, addr=(\"localhost\", 12001), isEdge=True, cloud_addr=None):        \n",
    "        self.addr = addr\n",
    "        self.cloud_addr = cloud_addr\n",
    "        \n",
    "        self.state = IDLE\n",
    "        self.connection = None\n",
    "        self.current_client = None\n",
    "        \n",
    "        self.tris = []\n",
    "        self.ray_task = []\n",
    "\n",
    "    def init(self):\n",
    "        self.sock = sk.socket(sk.AF_INET, sk.SOCK_STREAM)\n",
    "        self.sock.bind(self.addr)\n",
    "        \n",
    "    def cleanup(self):\n",
    "        self.sock.close()\n",
    "        \n",
    "    def start(self):\n",
    "        while True:\n",
    "            if self.state == IDLE:\n",
    "                self._await_connection()\n",
    "                self.state = WAITING_SCENE\n",
    "            elif self.state == WAITING_SCENE:\n",
    "                self._receive_scene()\n",
    "                self.state = IDLE\n",
    "                \n",
    "    def _await_connection(self):\n",
    "        self.sock.listen()\n",
    "        print('Waiting for connection...')\n",
    "        self.connection, self.current_client = self.sock.accept()\n",
    "        print(f\"Connection with {self.current_client[0]}:{self.current_client[1]}\")\n",
    "        \n",
    "    def _receive_scene(self):\n",
    "        number_of_tris = int(self.connection.recv(32))\n",
    "        self.tris = np.zeros(number_of_tris)\n",
    "        print(self.tris)\n",
    "        print(f'Preparing to read {number_of_tris} triangles')\n",
    "        for i in range(number_of_tris):\n",
    "            data = self.connection.recv(1024).split()\n",
    "            id, tri = int(data[0]), np.array(map(lambda x :float(x), data[1:]))\n",
    "            print(id, tri)\n",
    "            if data == b'END':\n",
    "                break\n",
    "            print(f'received:')\n",
    "            \n",
    "            print(*data, sep=',')\n",
    "        print('Finished reading triangle')\n",
    "\n",
    "dark_node = DarkNode()\n",
    "try:\n",
    "    dark_node.init()\n",
    "    dark_node.start()\n",
    "finally:\n",
    "    dark_node.cleanup()"
   ]
  },
  {
   "cell_type": "code",
   "execution_count": null,
   "metadata": {},
   "outputs": [],
   "source": [
    "#         sock.listen()\n",
    "#         print('Waiting for connection...')\n",
    "#         self.connection, self.current_client = sock.accept()\n",
    "#         with connection:\n",
    "#             print(f\"Connection with {client[0]}:{client[1]}\")\n",
    "#             while True:\n",
    "#                 data = connection.recv(1024)\n",
    "#                 print(f'received: {data}')\n",
    "#                 if data == b'END':\n",
    "#                     break\n",
    "#                 connection.sendall(data)\n",
    "import socket as sk\n",
    "s = sk.socket(sk.AF_INET, sk.SOCK_STREAM)\n",
    "s.connect(('localhost', 12001))\n",
    "s.send(b'1')\n",
    "s.send(b'4 -1 0 0 1 0 0')"
   ]
  },
  {
   "cell_type": "code",
   "execution_count": 3,
   "metadata": {},
   "outputs": [
    {
     "name": "stdout",
     "output_type": "stream",
     "text": [
      " O volume na unidade C não tem nome.\n",
      " O Número de Série do Volume é CAE7-EEBA\n",
      "\n",
      " Pasta de C:\\Users\\adria\\Documents\\Projects\\DarkRenderer\n",
      "\n",
      "04/07/2019  01:58    <DIR>          .\n",
      "04/07/2019  01:58    <DIR>          ..\n",
      "02/07/2019  21:26    <DIR>          .ipynb_checkpoints\n",
      "02/07/2019  21:25             1.140 client.py\n",
      "02/07/2019  19:02                26 rays.in\n",
      "02/07/2019  19:03                40 triangles.in\n",
      "04/07/2019  01:58             8.580 Untitled.ipynb\n",
      "               4 arquivo(s)          9.786 bytes\n",
      "               3 pasta(s)   851.341.942.784 bytes disponíveis\n"
     ]
    }
   ],
   "source": [
    "!dir"
   ]
  },
  {
   "cell_type": "code",
   "execution_count": 4,
   "metadata": {},
   "outputs": [
    {
     "name": "stderr",
     "output_type": "stream",
     "text": [
      "'cat' não é reconhecido como um comando interno\n",
      "ou externo, um programa operável ou um arquivo em lotes.\n"
     ]
    }
   ],
   "source": []
  },
  {
   "cell_type": "code",
   "execution_count": null,
   "metadata": {},
   "outputs": [],
   "source": []
  }
 ],
 "metadata": {
  "kernelspec": {
   "display_name": "Python 3",
   "language": "python",
   "name": "python3"
  },
  "language_info": {
   "codemirror_mode": {
    "name": "ipython",
    "version": 3
   },
   "file_extension": ".py",
   "mimetype": "text/x-python",
   "name": "python",
   "nbconvert_exporter": "python",
   "pygments_lexer": "ipython3",
   "version": "3.7.3"
  }
 },
 "nbformat": 4,
 "nbformat_minor": 2
}
